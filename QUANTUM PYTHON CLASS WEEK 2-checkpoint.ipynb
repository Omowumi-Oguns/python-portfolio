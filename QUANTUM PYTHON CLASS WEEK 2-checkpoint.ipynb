{
 "cells": [
  {
   "cell_type": "code",
   "execution_count": 5,
   "id": "1825d225",
   "metadata": {},
   "outputs": [
    {
     "name": "stdout",
     "output_type": "stream",
     "text": [
      "what is your name?: Omowumi Ogunmiluyi\n",
      "what class did you enrol for?: Data Science\n",
      ".....................................\n",
      "Hello Omowumi Ogunmiluyi\n",
      "The training on Data Science will commence shortly\n",
      "Do you wish to continue: yes or no? yes\n",
      "Goodbye\n"
     ]
    }
   ],
   "source": [
    "answer = 'Yes'\n",
    "while answer == 'Yes':\n",
    "    name = input(f'what is your name?: ')\n",
    "    question = input(f'what class did you enrol for?: ')\n",
    "    print('.....................................')\n",
    "    print(f'Hello {name}')\n",
    "    print(f'The training on {question} will commence shortly')\n",
    "    answer = input(f'Do you wish to continue: yes or no? ')\n",
    "print('Goodbye')  "
   ]
  },
  {
   "cell_type": "code",
   "execution_count": 2,
   "id": "32824560",
   "metadata": {},
   "outputs": [
    {
     "name": "stdout",
     "output_type": "stream",
     "text": [
      "1\n",
      "2\n",
      "3\n"
     ]
    }
   ],
   "source": [
    "# break statement for while loop\n",
    "'''' with the break statement, we can stop the loop even if the while condition is true'''\n",
    "\n",
    "i = 1\n",
    "while i < 6:\n",
    "    print(i)\n",
    "    if i == 3:\n",
    "        break\n",
    "    i += 1 "
   ]
  },
  {
   "cell_type": "code",
   "execution_count": 4,
   "id": "74d85910",
   "metadata": {},
   "outputs": [
    {
     "name": "stdout",
     "output_type": "stream",
     "text": [
      "Number is  0\n",
      "Number is  1\n",
      "Number is  2\n",
      "Number is  3\n",
      "Number is  4\n",
      "Number is  6\n",
      "Number is  7\n",
      "Number is  8\n",
      "Number is  9\n",
      "Out of the loop\n"
     ]
    }
   ],
   "source": [
    "# continue statement - it ignores the while condition even if its true\n",
    "\n",
    "for num in range(10):\n",
    "    if num == 5:\n",
    "        continue\n",
    "    print(f'Number is  {num}' )\n",
    "print(f'Out of the loop')   \n",
    "    "
   ]
  },
  {
   "cell_type": "code",
   "execution_count": 6,
   "id": "0e141c14",
   "metadata": {},
   "outputs": [
    {
     "name": "stdout",
     "output_type": "stream",
     "text": [
      "1\n",
      "2\n",
      "4\n",
      "5\n",
      "6\n"
     ]
    }
   ],
   "source": [
    "i = 0\n",
    "while i < 6:\n",
    "    i += 1\n",
    "    if i == 3:\n",
    "        continue\n",
    "    print(i)"
   ]
  },
  {
   "cell_type": "code",
   "execution_count": 8,
   "id": "13721a9e",
   "metadata": {},
   "outputs": [
    {
     "name": "stdout",
     "output_type": "stream",
     "text": [
      "<map object at 0x000002B123DF5A80>\n",
      "[5, 6, 6]\n"
     ]
    }
   ],
   "source": [
    "# map function - it is an inbult function that helps to execute a specified function for each item in an iterable\n",
    "\n",
    "def myfunc(x):\n",
    "    return len(x)\n",
    "x = map(myfunc, ('apple', 'cherry', 'banana'))\n",
    "print(x)\n",
    "\n",
    "# convert the map to a list for readability\n",
    "print(list(x))"
   ]
  },
  {
   "cell_type": "code",
   "execution_count": 9,
   "id": "4e506ca2",
   "metadata": {},
   "outputs": [
    {
     "name": "stdout",
     "output_type": "stream",
     "text": [
      "[1, 4, 9, 16, 25, 36, 49]\n"
     ]
    }
   ],
   "source": [
    "def sqr(x):\n",
    "    num = x ** 2\n",
    "    return num\n",
    "my_list = [1,2,3,4,5,6,7]\n",
    "x = map(sqr, my_list)\n",
    "print(list(x))"
   ]
  },
  {
   "cell_type": "code",
   "execution_count": 12,
   "id": "5ac71c7f",
   "metadata": {},
   "outputs": [
    {
     "name": "stdout",
     "output_type": "stream",
     "text": [
      "['C', 'A', 'D', 'Failed', 'B', 'B']\n"
     ]
    }
   ],
   "source": [
    "# grading system with a conditional statement\n",
    "\n",
    "def grade(x):\n",
    "    '''Return a student grade baed on their score'''\n",
    "    if x >= 70:\n",
    "        result = \"A\"\n",
    "    elif x >= 60:\n",
    "        result = 'B'\n",
    "    elif x >= 50:\n",
    "        result = 'C'\n",
    "    elif  x >= 40:\n",
    "        result = 'D'\n",
    "    else:\n",
    "        result = 'Failed'\n",
    "    return result\n",
    "\n",
    "scores = [55, 72, 45, 20, 63, 65]\n",
    "result = map(grade, scores)\n",
    "\n",
    "print(list(result))"
   ]
  },
  {
   "cell_type": "code",
   "execution_count": 15,
   "id": "5793e6f1",
   "metadata": {},
   "outputs": [
    {
     "name": "stdout",
     "output_type": "stream",
     "text": [
      "['Even', 'Odd', 'Odd', 'Even', 'Even', 'Odd']\n"
     ]
    }
   ],
   "source": [
    "# names of person and checker; whether the length of their name is even or odd\n",
    "\n",
    "names = ['Emmanuel',\n",
    "        'Omowumi', 'Kelly', 'Roland', 'Ifeoma', 'Christian']\n",
    "def even_odd(y):\n",
    "    if len(y) % 2 == 0:\n",
    "        category = 'Even'\n",
    "    else:\n",
    "        category = 'Odd'\n",
    "    return category\n",
    "\n",
    "category = map(even_odd, names)\n",
    "print(list(category))"
   ]
  },
  {
   "cell_type": "code",
   "execution_count": 17,
   "id": "d8a09237",
   "metadata": {},
   "outputs": [
    {
     "name": "stdout",
     "output_type": "stream",
     "text": [
      "[18, 24, 32]\n"
     ]
    }
   ],
   "source": [
    "# filter\n",
    "'''filter - it is an inbuilt function that can be applied to an iterable such as list or dictionary and create a new iterator,\n",
    "the new iterator can filter out certain specific element based on condition that is provided'''\n",
    "ages = [5,12,17,18,24,32]\n",
    "def myfunc(x):\n",
    "    if x < 18:\n",
    "        return False\n",
    "    else:\n",
    "         return True\n",
    "adults = filter(myfunc, ages)\n",
    "print(list(adults))"
   ]
  },
  {
   "cell_type": "code",
   "execution_count": 21,
   "id": "03d49026",
   "metadata": {},
   "outputs": [
    {
     "name": "stdout",
     "output_type": "stream",
     "text": [
      "['Emmanuel', 'Ifeoma', 'Roland']\n"
     ]
    }
   ],
   "source": [
    "# filter (the function, iterable)\n",
    "\n",
    "'''Names of person and checker; whether the length of their name is even or odd'''\n",
    "\n",
    "names = ['Emmanuel', 'Ifeoma', 'Omowumi', 'Kelly', 'Christain', 'Roland']\n",
    "\n",
    "def even_odd(x):\n",
    "    if len(x) % 2 == 0:\n",
    "        return x\n",
    "    \n",
    "x = filter(even_odd, names)\n",
    "print(list(x))"
   ]
  },
  {
   "cell_type": "code",
   "execution_count": 23,
   "id": "9be7ea9f",
   "metadata": {},
   "outputs": [
    {
     "name": "stdout",
     "output_type": "stream",
     "text": [
      "8\n"
     ]
    }
   ],
   "source": [
    "# lambda\n",
    "\n",
    "result = lambda x,y: x + y\n",
    "print(result(3,5))"
   ]
  },
  {
   "cell_type": "code",
   "execution_count": 28,
   "id": "480e25f4",
   "metadata": {},
   "outputs": [
    {
     "name": "stdout",
     "output_type": "stream",
     "text": [
      "65\n"
     ]
    }
   ],
   "source": [
    "\n",
    "y = lambda a: a + 20\n",
    "print(y(45))"
   ]
  },
  {
   "cell_type": "code",
   "execution_count": 40,
   "id": "29bea2fe",
   "metadata": {},
   "outputs": [
    {
     "name": "stdout",
     "output_type": "stream",
     "text": [
      "[9, 12, 15]\n"
     ]
    }
   ],
   "source": [
    "num1 = [1,2,3]\n",
    "num2 =[4,5,6]\n",
    "result = map(lambda x, y: x+2 * y, num1, num2)\n",
    "print(list(result))"
   ]
  },
  {
   "cell_type": "code",
   "execution_count": 34,
   "id": "f109e888",
   "metadata": {},
   "outputs": [
    {
     "name": "stdout",
     "output_type": "stream",
     "text": [
      "38\n"
     ]
    }
   ],
   "source": [
    "# function with multiple elements\n",
    "def f(a,b):\n",
    "    y = 5 * a + 3 * b\n",
    "    return y\n",
    "print(f(4, 6))"
   ]
  },
  {
   "cell_type": "code",
   "execution_count": null,
   "id": "411b6e81",
   "metadata": {},
   "outputs": [],
   "source": []
  }
 ],
 "metadata": {
  "kernelspec": {
   "display_name": "Python 3 (ipykernel)",
   "language": "python",
   "name": "python3"
  },
  "language_info": {
   "codemirror_mode": {
    "name": "ipython",
    "version": 3
   },
   "file_extension": ".py",
   "mimetype": "text/x-python",
   "name": "python",
   "nbconvert_exporter": "python",
   "pygments_lexer": "ipython3",
   "version": "3.10.5"
  }
 },
 "nbformat": 4,
 "nbformat_minor": 5
}
