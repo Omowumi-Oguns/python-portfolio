{
 "cells": [
  {
   "cell_type": "code",
   "execution_count": null,
   "id": "9f4d56cd",
   "metadata": {},
   "outputs": [],
   "source": [
    "#VARIABLES\n",
    "#Single line comment\n",
    "#Representing the information in python using variables\n",
    "#multi line comment\n",
    "'''\n",
    "Scenario 1: James is a student at kent college. He has a lunch box containing\n",
    "    5 apples, 3 oranges and two bottles of water\n",
    "Task: Represent this information in python using variables\n",
    "\n",
    "'''"
   ]
  },
  {
   "cell_type": "code",
   "execution_count": null,
   "id": "3b24f169",
   "metadata": {},
   "outputs": [],
   "source": [
    "Variables are used to store values"
   ]
  },
  {
   "cell_type": "code",
   "execution_count": 3,
   "id": "d81f04ec",
   "metadata": {},
   "outputs": [
    {
     "ename": "SyntaxError",
     "evalue": "invalid syntax (860169376.py, line 1)",
     "output_type": "error",
     "traceback": [
      "\u001b[1;36m  Input \u001b[1;32mIn [3]\u001b[1;36m\u001b[0m\n\u001b[1;33m    Scenario 1: James is a student at kent college. He has a lunch box containing\u001b[0m\n\u001b[1;37m             ^\u001b[0m\n\u001b[1;31mSyntaxError\u001b[0m\u001b[1;31m:\u001b[0m invalid syntax\n"
     ]
    }
   ],
   "source": [
    "\n",
    "\n",
    "    "
   ]
  },
  {
   "cell_type": "code",
   "execution_count": null,
   "id": "ac755d10",
   "metadata": {},
   "outputs": [],
   "source": [
    "#Representing the information in python using variables"
   ]
  },
  {
   "cell_type": "code",
   "execution_count": null,
   "id": "3ed8c875",
   "metadata": {},
   "outputs": [],
   "source": [
    "'''\n",
    "James\n",
    "student\n",
    "kent college\n",
    "one lunch box\n",
    "5 apples\n",
    "3 oranges\n",
    "2 bottle water\n",
    "'''"
   ]
  },
  {
   "cell_type": "code",
   "execution_count": null,
   "id": "ad5f7355",
   "metadata": {},
   "outputs": [],
   "source": [
    "#creating variable for each object"
   ]
  },
  {
   "cell_type": "code",
   "execution_count": null,
   "id": "c85b00bc",
   "metadata": {},
   "outputs": [],
   "source": [
    "#Rules for creating a variable\n",
    "1. name must be descriptive of the type of object or value it holds\n",
    "2. name must be camel case or snake case\n",
    "3. name must be short"
   ]
  },
  {
   "cell_type": "code",
   "execution_count": null,
   "id": "daf59e9a",
   "metadata": {},
   "outputs": [],
   "source": [
    "studentName = 'James'\n",
    "status = 'student'\n",
    "college = 'kent'\n",
    "numLunchBox = 1\n",
    "numApples = 5\n",
    "numOranges = 3\n",
    "numWater = 2"
   ]
  },
  {
   "cell_type": "code",
   "execution_count": null,
   "id": "79314ba2",
   "metadata": {},
   "outputs": [],
   "source": [
    "Scenario 2: Agatha is a 45 year old teacher in St James college. she teaches \n",
    "3 subjects and drives a BMW and has a retirement account balance of 3000dollars\n",
    "\n"
   ]
  },
  {
   "cell_type": "code",
   "execution_count": null,
   "id": "0fb48fb6",
   "metadata": {},
   "outputs": [],
   "source": []
  },
  {
   "cell_type": "code",
   "execution_count": 10,
   "id": "6e2b7096",
   "metadata": {},
   "outputs": [],
   "source": [
    "teacherName = 'Agatha'\n",
    "teacherAge = 45\n",
    "employmentStatus = 'teacher'\n",
    "college = 'st. James'\n",
    "car = 'BMW'\n",
    "accountType = 'retirement'\n",
    "acctBal = 3000\n",
    "currency = '$'\n",
    "numSubjects = 3\n"
   ]
  },
  {
   "cell_type": "code",
   "execution_count": 11,
   "id": "12b899ea",
   "metadata": {},
   "outputs": [
    {
     "name": "stdout",
     "output_type": "stream",
     "text": [
      "Agatha\n"
     ]
    }
   ],
   "source": [
    "print(teacherName)"
   ]
  },
  {
   "cell_type": "code",
   "execution_count": 12,
   "id": "b98deb93",
   "metadata": {},
   "outputs": [
    {
     "data": {
      "text/plain": [
       "'st. James'"
      ]
     },
     "execution_count": 12,
     "metadata": {},
     "output_type": "execute_result"
    }
   ],
   "source": [
    "college"
   ]
  },
  {
   "cell_type": "code",
   "execution_count": 13,
   "id": "2e0553e0",
   "metadata": {},
   "outputs": [
    {
     "name": "stdout",
     "output_type": "stream",
     "text": [
      "45\n"
     ]
    }
   ],
   "source": [
    "print(teacherAge)"
   ]
  },
  {
   "cell_type": "code",
   "execution_count": 14,
   "id": "46ea050b",
   "metadata": {},
   "outputs": [
    {
     "name": "stdout",
     "output_type": "stream",
     "text": [
      "the name of the teacher is : Agatha\n"
     ]
    }
   ],
   "source": [
    "print('the name of the teacher is :', teacherName)"
   ]
  },
  {
   "cell_type": "code",
   "execution_count": null,
   "id": "f3adffeb",
   "metadata": {},
   "outputs": [],
   "source": [
    "#operators\n",
    "\n",
    "add\n",
    "minus\n",
    "multiply"
   ]
  },
  {
   "cell_type": "code",
   "execution_count": 16,
   "id": "e6025920",
   "metadata": {},
   "outputs": [
    {
     "name": "stdout",
     "output_type": "stream",
     "text": [
      "57\n"
     ]
    }
   ],
   "source": [
    "studentAge = 50\n",
    "numCollegeYrs = 7\n",
    "graduationAge = studentAge + numCollegeYrs  #python expressions\n",
    "print(graduationAge)"
   ]
  },
  {
   "cell_type": "code",
   "execution_count": 18,
   "id": "0849e6ac",
   "metadata": {},
   "outputs": [
    {
     "name": "stdout",
     "output_type": "stream",
     "text": [
      "120\n",
      "$120\n"
     ]
    }
   ],
   "source": [
    "hrsWorked = 8\n",
    "hourlyWage = 15\n",
    "dayPay = hrsWorked * hourlyWage\n",
    "print(dayPay)\n",
    "currSymbol = \"$\"\n",
    "\n",
    "#including currency\n",
    "dayPay2 = currSymbol + str(dayPay)\n",
    "print(dayPay2)"
   ]
  },
  {
   "cell_type": "code",
   "execution_count": 2,
   "id": "497f0960",
   "metadata": {},
   "outputs": [
    {
     "name": "stdout",
     "output_type": "stream",
     "text": [
      "625\n"
     ]
    }
   ],
   "source": [
    "# exponential operator\n",
    "exponential = 4\n",
    "targetNum = 5\n",
    "result = targetNum**exponential\n",
    "print(result)\n"
   ]
  },
  {
   "cell_type": "code",
   "execution_count": 3,
   "id": "d911698e",
   "metadata": {},
   "outputs": [
    {
     "name": "stdout",
     "output_type": "stream",
     "text": [
      "42\n"
     ]
    }
   ],
   "source": [
    "#Assignment operators\n",
    "mumAge = 40\n",
    "increment = 2\n",
    "mumAge +=increment\n",
    "print(mumAge)"
   ]
  },
  {
   "cell_type": "code",
   "execution_count": 5,
   "id": "02e4b228",
   "metadata": {},
   "outputs": [
    {
     "name": "stdout",
     "output_type": "stream",
     "text": [
      "20\n"
     ]
    }
   ],
   "source": [
    "studentNum = 50\n",
    "boyNum = 30\n",
    "studentNum -= boyNum\n",
    "print(studentNum)"
   ]
  },
  {
   "cell_type": "code",
   "execution_count": 6,
   "id": "49018421",
   "metadata": {},
   "outputs": [
    {
     "name": "stdout",
     "output_type": "stream",
     "text": [
      "False\n"
     ]
    }
   ],
   "source": [
    "#comparison operator\n",
    "a = 4\n",
    "b = 5\n",
    "print(a==b)"
   ]
  },
  {
   "cell_type": "code",
   "execution_count": 7,
   "id": "d293e5dc",
   "metadata": {},
   "outputs": [
    {
     "name": "stdout",
     "output_type": "stream",
     "text": [
      "True\n"
     ]
    }
   ],
   "source": [
    "j =47\n",
    "k = 87\n",
    "print(j<k)"
   ]
  },
  {
   "cell_type": "code",
   "execution_count": 16,
   "id": "3a7e134d",
   "metadata": {},
   "outputs": [
    {
     "name": "stdout",
     "output_type": "stream",
     "text": [
      "False\n"
     ]
    }
   ],
   "source": [
    "name1 = 'AYO'\n",
    "name2= 'segun'\n",
    "\n",
    "print((len(name1) > len(name2)))"
   ]
  },
  {
   "cell_type": "code",
   "execution_count": 18,
   "id": "0211ea12",
   "metadata": {},
   "outputs": [
    {
     "name": "stdout",
     "output_type": "stream",
     "text": [
      "9\n"
     ]
    }
   ],
   "source": [
    "a = 2\n",
    "b=4\n",
    "res = (((a**b)/2)+1)\n",
    "print(int(res))"
   ]
  },
  {
   "cell_type": "code",
   "execution_count": null,
   "id": "fb667524",
   "metadata": {},
   "outputs": [],
   "source": []
  }
 ],
 "metadata": {
  "kernelspec": {
   "display_name": "Python 3 (ipykernel)",
   "language": "python",
   "name": "python3"
  },
  "language_info": {
   "codemirror_mode": {
    "name": "ipython",
    "version": 3
   },
   "file_extension": ".py",
   "mimetype": "text/x-python",
   "name": "python",
   "nbconvert_exporter": "python",
   "pygments_lexer": "ipython3",
   "version": "3.10.5"
  }
 },
 "nbformat": 4,
 "nbformat_minor": 5
}
