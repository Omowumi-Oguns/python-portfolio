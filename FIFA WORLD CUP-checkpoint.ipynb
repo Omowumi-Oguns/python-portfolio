{
 "cells": [
  {
   "cell_type": "code",
   "execution_count": 104,
   "id": "439b4af8",
   "metadata": {},
   "outputs": [
    {
     "data": {
      "text/plain": [
       "True"
      ]
     },
     "execution_count": 104,
     "metadata": {},
     "output_type": "execute_result"
    }
   ],
   "source": [
    "# import all the necessary libraries\n",
    "import pandas as pd\n",
    "import numpy as np\n",
    "\n",
    "# data visauls\n",
    "import matplotlib.pyplot as plt\n",
    "import seaborn as sns\n",
    "import os\n",
    "os.path.isfile(r'C:\\Users\\HP\\Documents\\ml\\womens-world-cup.csv')"
   ]
  },
  {
   "cell_type": "code",
   "execution_count": 105,
   "id": "ee50cc28",
   "metadata": {},
   "outputs": [],
   "source": [
    "from pathlib import Path\n",
    "df_path = Path(r'C:\\Users\\HP\\Documents\\ml\\womens-world-cup.csv')\n",
    "df = pd.read_csv(df_path)"
   ]
  },
  {
   "cell_type": "code",
   "execution_count": 106,
   "id": "811dd146",
   "metadata": {
    "scrolled": true
   },
   "outputs": [
    {
     "data": {
      "text/html": [
       "<div>\n",
       "<style scoped>\n",
       "    .dataframe tbody tr th:only-of-type {\n",
       "        vertical-align: middle;\n",
       "    }\n",
       "\n",
       "    .dataframe tbody tr th {\n",
       "        vertical-align: top;\n",
       "    }\n",
       "\n",
       "    .dataframe thead th {\n",
       "        text-align: right;\n",
       "    }\n",
       "</style>\n",
       "<table border=\"1\" class=\"dataframe\">\n",
       "  <thead>\n",
       "    <tr style=\"text-align: right;\">\n",
       "      <th></th>\n",
       "      <th>id</th>\n",
       "      <th>year</th>\n",
       "      <th>players</th>\n",
       "      <th>age</th>\n",
       "      <th>possesion</th>\n",
       "      <th>matches_played</th>\n",
       "      <th>starts</th>\n",
       "      <th>min_playing_time</th>\n",
       "      <th>minutes_played_90s</th>\n",
       "      <th>goals</th>\n",
       "      <th>...</th>\n",
       "      <th>non_penalty_goals</th>\n",
       "      <th>penalty_kicks_made</th>\n",
       "      <th>penalty_kicks_attempted</th>\n",
       "      <th>yellow_cards</th>\n",
       "      <th>red_cards</th>\n",
       "      <th>goals_per_90</th>\n",
       "      <th>assists_per_90</th>\n",
       "      <th>goals_plus_assists_per_90</th>\n",
       "      <th>goals_minus_penalty_kicks_per_90</th>\n",
       "      <th>goals_plus_assists_minus_penalty_kicks_per_90</th>\n",
       "    </tr>\n",
       "  </thead>\n",
       "  <tbody>\n",
       "    <tr>\n",
       "      <th>count</th>\n",
       "      <td>136.000000</td>\n",
       "      <td>136.000000</td>\n",
       "      <td>136.000000</td>\n",
       "      <td>136.000000</td>\n",
       "      <td>96.000000</td>\n",
       "      <td>136.000000</td>\n",
       "      <td>136.000000</td>\n",
       "      <td>136.000000</td>\n",
       "      <td>136.000000</td>\n",
       "      <td>136.000000</td>\n",
       "      <td>...</td>\n",
       "      <td>136.000000</td>\n",
       "      <td>136.000000</td>\n",
       "      <td>136.000000</td>\n",
       "      <td>62.000000</td>\n",
       "      <td>62.000000</td>\n",
       "      <td>136.000000</td>\n",
       "      <td>136.000000</td>\n",
       "      <td>136.000000</td>\n",
       "      <td>136.000000</td>\n",
       "      <td>136.000000</td>\n",
       "    </tr>\n",
       "    <tr>\n",
       "      <th>mean</th>\n",
       "      <td>68.500000</td>\n",
       "      <td>2007.117647</td>\n",
       "      <td>17.330882</td>\n",
       "      <td>25.274265</td>\n",
       "      <td>49.252083</td>\n",
       "      <td>4.176471</td>\n",
       "      <td>45.941176</td>\n",
       "      <td>378.147059</td>\n",
       "      <td>4.200735</td>\n",
       "      <td>6.566176</td>\n",
       "      <td>...</td>\n",
       "      <td>6.161765</td>\n",
       "      <td>0.404412</td>\n",
       "      <td>0.463235</td>\n",
       "      <td>2.483871</td>\n",
       "      <td>0.080645</td>\n",
       "      <td>1.375735</td>\n",
       "      <td>0.651324</td>\n",
       "      <td>2.027574</td>\n",
       "      <td>1.294265</td>\n",
       "      <td>1.946397</td>\n",
       "    </tr>\n",
       "    <tr>\n",
       "      <th>std</th>\n",
       "      <td>39.403892</td>\n",
       "      <td>9.159540</td>\n",
       "      <td>1.712936</td>\n",
       "      <td>1.962462</td>\n",
       "      <td>6.584783</td>\n",
       "      <td>1.298902</td>\n",
       "      <td>14.287920</td>\n",
       "      <td>122.916565</td>\n",
       "      <td>1.361780</td>\n",
       "      <td>5.764132</td>\n",
       "      <td>...</td>\n",
       "      <td>5.528674</td>\n",
       "      <td>0.754038</td>\n",
       "      <td>0.859872</td>\n",
       "      <td>2.434331</td>\n",
       "      <td>0.274512</td>\n",
       "      <td>0.923320</td>\n",
       "      <td>0.633787</td>\n",
       "      <td>1.405935</td>\n",
       "      <td>0.898872</td>\n",
       "      <td>1.365997</td>\n",
       "    </tr>\n",
       "    <tr>\n",
       "      <th>min</th>\n",
       "      <td>1.000000</td>\n",
       "      <td>1991.000000</td>\n",
       "      <td>13.000000</td>\n",
       "      <td>18.200000</td>\n",
       "      <td>30.000000</td>\n",
       "      <td>3.000000</td>\n",
       "      <td>33.000000</td>\n",
       "      <td>240.000000</td>\n",
       "      <td>2.700000</td>\n",
       "      <td>0.000000</td>\n",
       "      <td>...</td>\n",
       "      <td>0.000000</td>\n",
       "      <td>0.000000</td>\n",
       "      <td>0.000000</td>\n",
       "      <td>0.000000</td>\n",
       "      <td>0.000000</td>\n",
       "      <td>0.000000</td>\n",
       "      <td>0.000000</td>\n",
       "      <td>0.000000</td>\n",
       "      <td>0.000000</td>\n",
       "      <td>0.000000</td>\n",
       "    </tr>\n",
       "    <tr>\n",
       "      <th>25%</th>\n",
       "      <td>34.750000</td>\n",
       "      <td>1999.000000</td>\n",
       "      <td>16.000000</td>\n",
       "      <td>24.275000</td>\n",
       "      <td>46.275000</td>\n",
       "      <td>3.000000</td>\n",
       "      <td>33.000000</td>\n",
       "      <td>270.000000</td>\n",
       "      <td>3.000000</td>\n",
       "      <td>2.000000</td>\n",
       "      <td>...</td>\n",
       "      <td>2.000000</td>\n",
       "      <td>0.000000</td>\n",
       "      <td>0.000000</td>\n",
       "      <td>0.000000</td>\n",
       "      <td>0.000000</td>\n",
       "      <td>0.670000</td>\n",
       "      <td>0.000000</td>\n",
       "      <td>1.000000</td>\n",
       "      <td>0.600000</td>\n",
       "      <td>0.787500</td>\n",
       "    </tr>\n",
       "    <tr>\n",
       "      <th>50%</th>\n",
       "      <td>68.500000</td>\n",
       "      <td>2007.000000</td>\n",
       "      <td>17.000000</td>\n",
       "      <td>25.300000</td>\n",
       "      <td>49.400000</td>\n",
       "      <td>4.000000</td>\n",
       "      <td>44.000000</td>\n",
       "      <td>360.000000</td>\n",
       "      <td>4.000000</td>\n",
       "      <td>5.000000</td>\n",
       "      <td>...</td>\n",
       "      <td>4.500000</td>\n",
       "      <td>0.000000</td>\n",
       "      <td>0.000000</td>\n",
       "      <td>2.000000</td>\n",
       "      <td>0.000000</td>\n",
       "      <td>1.250000</td>\n",
       "      <td>0.500000</td>\n",
       "      <td>1.750000</td>\n",
       "      <td>1.075000</td>\n",
       "      <td>1.725000</td>\n",
       "    </tr>\n",
       "    <tr>\n",
       "      <th>75%</th>\n",
       "      <td>102.250000</td>\n",
       "      <td>2015.000000</td>\n",
       "      <td>18.000000</td>\n",
       "      <td>26.800000</td>\n",
       "      <td>53.350000</td>\n",
       "      <td>5.000000</td>\n",
       "      <td>55.000000</td>\n",
       "      <td>480.000000</td>\n",
       "      <td>5.300000</td>\n",
       "      <td>10.000000</td>\n",
       "      <td>...</td>\n",
       "      <td>9.000000</td>\n",
       "      <td>1.000000</td>\n",
       "      <td>1.000000</td>\n",
       "      <td>4.000000</td>\n",
       "      <td>0.000000</td>\n",
       "      <td>1.947500</td>\n",
       "      <td>1.000000</td>\n",
       "      <td>3.000000</td>\n",
       "      <td>1.800000</td>\n",
       "      <td>3.000000</td>\n",
       "    </tr>\n",
       "    <tr>\n",
       "      <th>max</th>\n",
       "      <td>136.000000</td>\n",
       "      <td>2019.000000</td>\n",
       "      <td>23.000000</td>\n",
       "      <td>29.700000</td>\n",
       "      <td>63.000000</td>\n",
       "      <td>7.000000</td>\n",
       "      <td>77.000000</td>\n",
       "      <td>690.000000</td>\n",
       "      <td>7.700000</td>\n",
       "      <td>25.000000</td>\n",
       "      <td>...</td>\n",
       "      <td>25.000000</td>\n",
       "      <td>4.000000</td>\n",
       "      <td>4.000000</td>\n",
       "      <td>8.000000</td>\n",
       "      <td>1.000000</td>\n",
       "      <td>4.690000</td>\n",
       "      <td>2.430000</td>\n",
       "      <td>6.750000</td>\n",
       "      <td>4.500000</td>\n",
       "      <td>6.560000</td>\n",
       "    </tr>\n",
       "  </tbody>\n",
       "</table>\n",
       "<p>8 rows × 21 columns</p>\n",
       "</div>"
      ],
      "text/plain": [
       "               id         year     players         age  possesion  \\\n",
       "count  136.000000   136.000000  136.000000  136.000000  96.000000   \n",
       "mean    68.500000  2007.117647   17.330882   25.274265  49.252083   \n",
       "std     39.403892     9.159540    1.712936    1.962462   6.584783   \n",
       "min      1.000000  1991.000000   13.000000   18.200000  30.000000   \n",
       "25%     34.750000  1999.000000   16.000000   24.275000  46.275000   \n",
       "50%     68.500000  2007.000000   17.000000   25.300000  49.400000   \n",
       "75%    102.250000  2015.000000   18.000000   26.800000  53.350000   \n",
       "max    136.000000  2019.000000   23.000000   29.700000  63.000000   \n",
       "\n",
       "       matches_played      starts  min_playing_time  minutes_played_90s  \\\n",
       "count      136.000000  136.000000        136.000000          136.000000   \n",
       "mean         4.176471   45.941176        378.147059            4.200735   \n",
       "std          1.298902   14.287920        122.916565            1.361780   \n",
       "min          3.000000   33.000000        240.000000            2.700000   \n",
       "25%          3.000000   33.000000        270.000000            3.000000   \n",
       "50%          4.000000   44.000000        360.000000            4.000000   \n",
       "75%          5.000000   55.000000        480.000000            5.300000   \n",
       "max          7.000000   77.000000        690.000000            7.700000   \n",
       "\n",
       "            goals  ...  non_penalty_goals  penalty_kicks_made  \\\n",
       "count  136.000000  ...         136.000000          136.000000   \n",
       "mean     6.566176  ...           6.161765            0.404412   \n",
       "std      5.764132  ...           5.528674            0.754038   \n",
       "min      0.000000  ...           0.000000            0.000000   \n",
       "25%      2.000000  ...           2.000000            0.000000   \n",
       "50%      5.000000  ...           4.500000            0.000000   \n",
       "75%     10.000000  ...           9.000000            1.000000   \n",
       "max     25.000000  ...          25.000000            4.000000   \n",
       "\n",
       "       penalty_kicks_attempted  yellow_cards  red_cards  goals_per_90  \\\n",
       "count               136.000000     62.000000  62.000000    136.000000   \n",
       "mean                  0.463235      2.483871   0.080645      1.375735   \n",
       "std                   0.859872      2.434331   0.274512      0.923320   \n",
       "min                   0.000000      0.000000   0.000000      0.000000   \n",
       "25%                   0.000000      0.000000   0.000000      0.670000   \n",
       "50%                   0.000000      2.000000   0.000000      1.250000   \n",
       "75%                   1.000000      4.000000   0.000000      1.947500   \n",
       "max                   4.000000      8.000000   1.000000      4.690000   \n",
       "\n",
       "       assists_per_90  goals_plus_assists_per_90  \\\n",
       "count      136.000000                 136.000000   \n",
       "mean         0.651324                   2.027574   \n",
       "std          0.633787                   1.405935   \n",
       "min          0.000000                   0.000000   \n",
       "25%          0.000000                   1.000000   \n",
       "50%          0.500000                   1.750000   \n",
       "75%          1.000000                   3.000000   \n",
       "max          2.430000                   6.750000   \n",
       "\n",
       "       goals_minus_penalty_kicks_per_90  \\\n",
       "count                        136.000000   \n",
       "mean                           1.294265   \n",
       "std                            0.898872   \n",
       "min                            0.000000   \n",
       "25%                            0.600000   \n",
       "50%                            1.075000   \n",
       "75%                            1.800000   \n",
       "max                            4.500000   \n",
       "\n",
       "       goals_plus_assists_minus_penalty_kicks_per_90  \n",
       "count                                     136.000000  \n",
       "mean                                        1.946397  \n",
       "std                                         1.365997  \n",
       "min                                         0.000000  \n",
       "25%                                         0.787500  \n",
       "50%                                         1.725000  \n",
       "75%                                         3.000000  \n",
       "max                                         6.560000  \n",
       "\n",
       "[8 rows x 21 columns]"
      ]
     },
     "execution_count": 106,
     "metadata": {},
     "output_type": "execute_result"
    }
   ],
   "source": [
    "# to check statistical analysis of the dataset\n",
    "df.describe()"
   ]
  },
  {
   "cell_type": "code",
   "execution_count": 107,
   "id": "d4566ff8",
   "metadata": {},
   "outputs": [
    {
     "data": {
      "text/plain": [
       "(136, 22)"
      ]
     },
     "execution_count": 107,
     "metadata": {},
     "output_type": "execute_result"
    }
   ],
   "source": [
    "df.shape"
   ]
  },
  {
   "cell_type": "code",
   "execution_count": 108,
   "id": "37857831",
   "metadata": {
    "scrolled": true
   },
   "outputs": [
    {
     "name": "stdout",
     "output_type": "stream",
     "text": [
      "<class 'pandas.core.frame.DataFrame'>\n",
      "RangeIndex: 136 entries, 0 to 135\n",
      "Data columns (total 22 columns):\n",
      " #   Column                                         Non-Null Count  Dtype  \n",
      "---  ------                                         --------------  -----  \n",
      " 0   id                                             136 non-null    int64  \n",
      " 1   squad                                          136 non-null    object \n",
      " 2   year                                           136 non-null    int64  \n",
      " 3   players                                        136 non-null    int64  \n",
      " 4   age                                            136 non-null    float64\n",
      " 5   possesion                                      96 non-null     float64\n",
      " 6   matches_played                                 136 non-null    int64  \n",
      " 7   starts                                         136 non-null    int64  \n",
      " 8   min_playing_time                               136 non-null    int64  \n",
      " 9   minutes_played_90s                             136 non-null    float64\n",
      " 10  goals                                          136 non-null    int64  \n",
      " 11  assists                                        136 non-null    int64  \n",
      " 12  non_penalty_goals                              136 non-null    int64  \n",
      " 13  penalty_kicks_made                             136 non-null    int64  \n",
      " 14  penalty_kicks_attempted                        136 non-null    int64  \n",
      " 15  yellow_cards                                   62 non-null     float64\n",
      " 16  red_cards                                      62 non-null     float64\n",
      " 17  goals_per_90                                   136 non-null    float64\n",
      " 18  assists_per_90                                 136 non-null    float64\n",
      " 19  goals_plus_assists_per_90                      136 non-null    float64\n",
      " 20  goals_minus_penalty_kicks_per_90               136 non-null    float64\n",
      " 21  goals_plus_assists_minus_penalty_kicks_per_90  136 non-null    float64\n",
      "dtypes: float64(10), int64(11), object(1)\n",
      "memory usage: 23.5+ KB\n"
     ]
    }
   ],
   "source": [
    "df.info()"
   ]
  },
  {
   "cell_type": "code",
   "execution_count": 122,
   "id": "14b0715c",
   "metadata": {},
   "outputs": [],
   "source": [
    "# Converting some columns to the appropriate data types from float to integer\n",
    "\n",
    "df['yellow_cards'] = df['yellow_cards'].astype(int)\n",
    "df['red_cards'] = df['red_cards'].astype(int)"
   ]
  },
  {
   "cell_type": "code",
   "execution_count": 110,
   "id": "8124d24a",
   "metadata": {},
   "outputs": [
    {
     "name": "stdout",
     "output_type": "stream",
     "text": [
      "<class 'pandas.core.frame.DataFrame'>\n",
      "RangeIndex: 136 entries, 0 to 135\n",
      "Data columns (total 22 columns):\n",
      " #   Column                                         Non-Null Count  Dtype  \n",
      "---  ------                                         --------------  -----  \n",
      " 0   id                                             136 non-null    int64  \n",
      " 1   squad                                          136 non-null    object \n",
      " 2   year                                           136 non-null    int64  \n",
      " 3   players                                        136 non-null    int64  \n",
      " 4   age                                            136 non-null    float64\n",
      " 5   possesion                                      96 non-null     float64\n",
      " 6   matches_played                                 136 non-null    int64  \n",
      " 7   starts                                         136 non-null    int64  \n",
      " 8   min_playing_time                               136 non-null    int64  \n",
      " 9   minutes_played_90s                             136 non-null    float64\n",
      " 10  goals                                          136 non-null    int64  \n",
      " 11  assists                                        136 non-null    int64  \n",
      " 12  non_penalty_goals                              136 non-null    int64  \n",
      " 13  penalty_kicks_made                             136 non-null    int64  \n",
      " 14  penalty_kicks_attempted                        136 non-null    int64  \n",
      " 15  yellow_cards                                   62 non-null     float64\n",
      " 16  red_cards                                      62 non-null     float64\n",
      " 17  goals_per_90                                   136 non-null    float64\n",
      " 18  assists_per_90                                 136 non-null    float64\n",
      " 19  goals_plus_assists_per_90                      136 non-null    float64\n",
      " 20  goals_minus_penalty_kicks_per_90               136 non-null    float64\n",
      " 21  goals_plus_assists_minus_penalty_kicks_per_90  136 non-null    float64\n",
      "dtypes: float64(10), int64(11), object(1)\n",
      "memory usage: 23.5+ KB\n"
     ]
    }
   ],
   "source": [
    "# To verify the change\n",
    "df.info()"
   ]
  },
  {
   "cell_type": "code",
   "execution_count": 111,
   "id": "9d31215c",
   "metadata": {
    "scrolled": false
   },
   "outputs": [
    {
     "data": {
      "text/plain": [
       "id                                                0\n",
       "squad                                             0\n",
       "year                                              0\n",
       "players                                           0\n",
       "age                                               0\n",
       "possesion                                        40\n",
       "matches_played                                    0\n",
       "starts                                            0\n",
       "min_playing_time                                  0\n",
       "minutes_played_90s                                0\n",
       "goals                                             0\n",
       "assists                                           0\n",
       "non_penalty_goals                                 0\n",
       "penalty_kicks_made                                0\n",
       "penalty_kicks_attempted                           0\n",
       "yellow_cards                                     74\n",
       "red_cards                                        74\n",
       "goals_per_90                                      0\n",
       "assists_per_90                                    0\n",
       "goals_plus_assists_per_90                         0\n",
       "goals_minus_penalty_kicks_per_90                  0\n",
       "goals_plus_assists_minus_penalty_kicks_per_90     0\n",
       "dtype: int64"
      ]
     },
     "execution_count": 111,
     "metadata": {},
     "output_type": "execute_result"
    }
   ],
   "source": [
    "# Get a list of all missing values\n",
    "\n",
    "df.isna().sum()"
   ]
  },
  {
   "cell_type": "code",
   "execution_count": 112,
   "id": "89f7dacd",
   "metadata": {
    "scrolled": true
   },
   "outputs": [
    {
     "name": "stdout",
     "output_type": "stream",
     "text": [
      "49.4\n",
      "2.0\n",
      "0.0\n"
     ]
    }
   ],
   "source": [
    "# handling missing values\n",
    "\n",
    "print(df['possesion'].median())\n",
    "print(df['yellow_cards'].median())\n",
    "print(df['red_cards'].median())"
   ]
  },
  {
   "cell_type": "code",
   "execution_count": 113,
   "id": "9cf3529b",
   "metadata": {},
   "outputs": [],
   "source": [
    "# filling up the missing values for possesion, yellow cards and red cards\n",
    "\n",
    "df['possesion'].fillna(df['possesion'].median(), inplace = True)\n",
    "df['yellow_cards'].fillna(df['yellow_cards'].median(), inplace = True)\n",
    "df['red_cards'].fillna(df['red_cards'].median(), inplace = True)\n"
   ]
  },
  {
   "cell_type": "code",
   "execution_count": 114,
   "id": "57bf25f6",
   "metadata": {
    "scrolled": true
   },
   "outputs": [
    {
     "data": {
      "text/html": [
       "<div>\n",
       "<style scoped>\n",
       "    .dataframe tbody tr th:only-of-type {\n",
       "        vertical-align: middle;\n",
       "    }\n",
       "\n",
       "    .dataframe tbody tr th {\n",
       "        vertical-align: top;\n",
       "    }\n",
       "\n",
       "    .dataframe thead th {\n",
       "        text-align: right;\n",
       "    }\n",
       "</style>\n",
       "<table border=\"1\" class=\"dataframe\">\n",
       "  <thead>\n",
       "    <tr style=\"text-align: right;\">\n",
       "      <th></th>\n",
       "      <th>id</th>\n",
       "      <th>squad</th>\n",
       "      <th>year</th>\n",
       "      <th>players</th>\n",
       "      <th>age</th>\n",
       "      <th>possesion</th>\n",
       "      <th>matches_played</th>\n",
       "      <th>starts</th>\n",
       "      <th>min_playing_time</th>\n",
       "      <th>minutes_played_90s</th>\n",
       "      <th>...</th>\n",
       "      <th>non_penalty_goals</th>\n",
       "      <th>penalty_kicks_made</th>\n",
       "      <th>penalty_kicks_attempted</th>\n",
       "      <th>yellow_cards</th>\n",
       "      <th>red_cards</th>\n",
       "      <th>goals_per_90</th>\n",
       "      <th>assists_per_90</th>\n",
       "      <th>goals_plus_assists_per_90</th>\n",
       "      <th>goals_minus_penalty_kicks_per_90</th>\n",
       "      <th>goals_plus_assists_minus_penalty_kicks_per_90</th>\n",
       "    </tr>\n",
       "  </thead>\n",
       "  <tbody>\n",
       "    <tr>\n",
       "      <th>0</th>\n",
       "      <td>1</td>\n",
       "      <td>Argentina</td>\n",
       "      <td>2019</td>\n",
       "      <td>18</td>\n",
       "      <td>26.8</td>\n",
       "      <td>34.7</td>\n",
       "      <td>3</td>\n",
       "      <td>33</td>\n",
       "      <td>270</td>\n",
       "      <td>3.0</td>\n",
       "      <td>...</td>\n",
       "      <td>1</td>\n",
       "      <td>1</td>\n",
       "      <td>1</td>\n",
       "      <td>3.0</td>\n",
       "      <td>0.0</td>\n",
       "      <td>0.67</td>\n",
       "      <td>0.33</td>\n",
       "      <td>1.00</td>\n",
       "      <td>0.33</td>\n",
       "      <td>0.67</td>\n",
       "    </tr>\n",
       "    <tr>\n",
       "      <th>1</th>\n",
       "      <td>2</td>\n",
       "      <td>Australia</td>\n",
       "      <td>2019</td>\n",
       "      <td>18</td>\n",
       "      <td>25.4</td>\n",
       "      <td>61.3</td>\n",
       "      <td>4</td>\n",
       "      <td>44</td>\n",
       "      <td>390</td>\n",
       "      <td>4.3</td>\n",
       "      <td>...</td>\n",
       "      <td>8</td>\n",
       "      <td>0</td>\n",
       "      <td>1</td>\n",
       "      <td>2.0</td>\n",
       "      <td>0.0</td>\n",
       "      <td>1.85</td>\n",
       "      <td>0.92</td>\n",
       "      <td>2.77</td>\n",
       "      <td>1.85</td>\n",
       "      <td>2.77</td>\n",
       "    </tr>\n",
       "    <tr>\n",
       "      <th>2</th>\n",
       "      <td>3</td>\n",
       "      <td>Brazil</td>\n",
       "      <td>2019</td>\n",
       "      <td>18</td>\n",
       "      <td>29.7</td>\n",
       "      <td>51.5</td>\n",
       "      <td>4</td>\n",
       "      <td>44</td>\n",
       "      <td>390</td>\n",
       "      <td>4.3</td>\n",
       "      <td>...</td>\n",
       "      <td>5</td>\n",
       "      <td>2</td>\n",
       "      <td>3</td>\n",
       "      <td>7.0</td>\n",
       "      <td>0.0</td>\n",
       "      <td>1.62</td>\n",
       "      <td>0.69</td>\n",
       "      <td>2.31</td>\n",
       "      <td>1.15</td>\n",
       "      <td>1.85</td>\n",
       "    </tr>\n",
       "    <tr>\n",
       "      <th>3</th>\n",
       "      <td>4</td>\n",
       "      <td>Cameroon</td>\n",
       "      <td>2019</td>\n",
       "      <td>20</td>\n",
       "      <td>27.7</td>\n",
       "      <td>36.0</td>\n",
       "      <td>4</td>\n",
       "      <td>44</td>\n",
       "      <td>360</td>\n",
       "      <td>4.0</td>\n",
       "      <td>...</td>\n",
       "      <td>3</td>\n",
       "      <td>0</td>\n",
       "      <td>0</td>\n",
       "      <td>6.0</td>\n",
       "      <td>0.0</td>\n",
       "      <td>0.75</td>\n",
       "      <td>0.75</td>\n",
       "      <td>1.50</td>\n",
       "      <td>0.75</td>\n",
       "      <td>1.50</td>\n",
       "    </tr>\n",
       "    <tr>\n",
       "      <th>4</th>\n",
       "      <td>5</td>\n",
       "      <td>Canada</td>\n",
       "      <td>2019</td>\n",
       "      <td>16</td>\n",
       "      <td>27.0</td>\n",
       "      <td>63.0</td>\n",
       "      <td>4</td>\n",
       "      <td>44</td>\n",
       "      <td>360</td>\n",
       "      <td>4.0</td>\n",
       "      <td>...</td>\n",
       "      <td>4</td>\n",
       "      <td>0</td>\n",
       "      <td>1</td>\n",
       "      <td>2.0</td>\n",
       "      <td>0.0</td>\n",
       "      <td>1.00</td>\n",
       "      <td>0.75</td>\n",
       "      <td>1.75</td>\n",
       "      <td>1.00</td>\n",
       "      <td>1.75</td>\n",
       "    </tr>\n",
       "  </tbody>\n",
       "</table>\n",
       "<p>5 rows × 22 columns</p>\n",
       "</div>"
      ],
      "text/plain": [
       "   id      squad  year  players   age  possesion  matches_played  starts  \\\n",
       "0   1  Argentina  2019       18  26.8       34.7               3      33   \n",
       "1   2  Australia  2019       18  25.4       61.3               4      44   \n",
       "2   3     Brazil  2019       18  29.7       51.5               4      44   \n",
       "3   4   Cameroon  2019       20  27.7       36.0               4      44   \n",
       "4   5     Canada  2019       16  27.0       63.0               4      44   \n",
       "\n",
       "   min_playing_time  minutes_played_90s  ...  non_penalty_goals  \\\n",
       "0               270                 3.0  ...                  1   \n",
       "1               390                 4.3  ...                  8   \n",
       "2               390                 4.3  ...                  5   \n",
       "3               360                 4.0  ...                  3   \n",
       "4               360                 4.0  ...                  4   \n",
       "\n",
       "   penalty_kicks_made  penalty_kicks_attempted  yellow_cards  red_cards  \\\n",
       "0                   1                        1           3.0        0.0   \n",
       "1                   0                        1           2.0        0.0   \n",
       "2                   2                        3           7.0        0.0   \n",
       "3                   0                        0           6.0        0.0   \n",
       "4                   0                        1           2.0        0.0   \n",
       "\n",
       "   goals_per_90  assists_per_90  goals_plus_assists_per_90  \\\n",
       "0          0.67            0.33                       1.00   \n",
       "1          1.85            0.92                       2.77   \n",
       "2          1.62            0.69                       2.31   \n",
       "3          0.75            0.75                       1.50   \n",
       "4          1.00            0.75                       1.75   \n",
       "\n",
       "   goals_minus_penalty_kicks_per_90  \\\n",
       "0                              0.33   \n",
       "1                              1.85   \n",
       "2                              1.15   \n",
       "3                              0.75   \n",
       "4                              1.00   \n",
       "\n",
       "   goals_plus_assists_minus_penalty_kicks_per_90  \n",
       "0                                           0.67  \n",
       "1                                           2.77  \n",
       "2                                           1.85  \n",
       "3                                           1.50  \n",
       "4                                           1.75  \n",
       "\n",
       "[5 rows x 22 columns]"
      ]
     },
     "execution_count": 114,
     "metadata": {},
     "output_type": "execute_result"
    }
   ],
   "source": [
    "# To check the top 5 values\n",
    "df.head()"
   ]
  },
  {
   "cell_type": "code",
   "execution_count": 115,
   "id": "79de752e",
   "metadata": {},
   "outputs": [
    {
     "data": {
      "text/html": [
       "<div>\n",
       "<style scoped>\n",
       "    .dataframe tbody tr th:only-of-type {\n",
       "        vertical-align: middle;\n",
       "    }\n",
       "\n",
       "    .dataframe tbody tr th {\n",
       "        vertical-align: top;\n",
       "    }\n",
       "\n",
       "    .dataframe thead th {\n",
       "        text-align: right;\n",
       "    }\n",
       "</style>\n",
       "<table border=\"1\" class=\"dataframe\">\n",
       "  <thead>\n",
       "    <tr style=\"text-align: right;\">\n",
       "      <th></th>\n",
       "      <th>id</th>\n",
       "      <th>squad</th>\n",
       "      <th>year</th>\n",
       "      <th>players</th>\n",
       "      <th>age</th>\n",
       "      <th>possesion</th>\n",
       "      <th>matches_played</th>\n",
       "      <th>starts</th>\n",
       "      <th>min_playing_time</th>\n",
       "      <th>minutes_played_90s</th>\n",
       "      <th>...</th>\n",
       "      <th>non_penalty_goals</th>\n",
       "      <th>penalty_kicks_made</th>\n",
       "      <th>penalty_kicks_attempted</th>\n",
       "      <th>yellow_cards</th>\n",
       "      <th>red_cards</th>\n",
       "      <th>goals_per_90</th>\n",
       "      <th>assists_per_90</th>\n",
       "      <th>goals_plus_assists_per_90</th>\n",
       "      <th>goals_minus_penalty_kicks_per_90</th>\n",
       "      <th>goals_plus_assists_minus_penalty_kicks_per_90</th>\n",
       "    </tr>\n",
       "  </thead>\n",
       "  <tbody>\n",
       "  </tbody>\n",
       "</table>\n",
       "<p>0 rows × 22 columns</p>\n",
       "</div>"
      ],
      "text/plain": [
       "Empty DataFrame\n",
       "Columns: [id, squad, year, players, age, possesion, matches_played, starts, min_playing_time, minutes_played_90s, goals, assists, non_penalty_goals, penalty_kicks_made, penalty_kicks_attempted, yellow_cards, red_cards, goals_per_90, assists_per_90, goals_plus_assists_per_90, goals_minus_penalty_kicks_per_90, goals_plus_assists_minus_penalty_kicks_per_90]\n",
       "Index: []\n",
       "\n",
       "[0 rows x 22 columns]"
      ]
     },
     "execution_count": 115,
     "metadata": {},
     "output_type": "execute_result"
    }
   ],
   "source": [
    "# To verify if there are no longer missing values\n",
    "df[(df['red_cards'].isna() == True)]"
   ]
  },
  {
   "cell_type": "code",
   "execution_count": 116,
   "id": "36b947a4",
   "metadata": {
    "scrolled": true
   },
   "outputs": [
    {
     "data": {
      "text/plain": [
       "0"
      ]
     },
     "execution_count": 116,
     "metadata": {},
     "output_type": "execute_result"
    }
   ],
   "source": [
    "# To verify\n",
    "df['possesion'].isna().sum()"
   ]
  },
  {
   "cell_type": "code",
   "execution_count": 117,
   "id": "1d9a8125",
   "metadata": {
    "scrolled": false
   },
   "outputs": [
    {
     "data": {
      "text/html": [
       "<div>\n",
       "<style scoped>\n",
       "    .dataframe tbody tr th:only-of-type {\n",
       "        vertical-align: middle;\n",
       "    }\n",
       "\n",
       "    .dataframe tbody tr th {\n",
       "        vertical-align: top;\n",
       "    }\n",
       "\n",
       "    .dataframe thead th {\n",
       "        text-align: right;\n",
       "    }\n",
       "</style>\n",
       "<table border=\"1\" class=\"dataframe\">\n",
       "  <thead>\n",
       "    <tr style=\"text-align: right;\">\n",
       "      <th></th>\n",
       "      <th>id</th>\n",
       "      <th>squad</th>\n",
       "      <th>year</th>\n",
       "      <th>players</th>\n",
       "      <th>age</th>\n",
       "      <th>possesion</th>\n",
       "      <th>matches_played</th>\n",
       "      <th>starts</th>\n",
       "      <th>min_playing_time</th>\n",
       "      <th>minutes_played_90s</th>\n",
       "      <th>...</th>\n",
       "      <th>non_penalty_goals</th>\n",
       "      <th>penalty_kicks_made</th>\n",
       "      <th>penalty_kicks_attempted</th>\n",
       "      <th>yellow_cards</th>\n",
       "      <th>red_cards</th>\n",
       "      <th>goals_per_90</th>\n",
       "      <th>assists_per_90</th>\n",
       "      <th>goals_plus_assists_per_90</th>\n",
       "      <th>goals_minus_penalty_kicks_per_90</th>\n",
       "      <th>goals_plus_assists_minus_penalty_kicks_per_90</th>\n",
       "    </tr>\n",
       "  </thead>\n",
       "  <tbody>\n",
       "  </tbody>\n",
       "</table>\n",
       "<p>0 rows × 22 columns</p>\n",
       "</div>"
      ],
      "text/plain": [
       "Empty DataFrame\n",
       "Columns: [id, squad, year, players, age, possesion, matches_played, starts, min_playing_time, minutes_played_90s, goals, assists, non_penalty_goals, penalty_kicks_made, penalty_kicks_attempted, yellow_cards, red_cards, goals_per_90, assists_per_90, goals_plus_assists_per_90, goals_minus_penalty_kicks_per_90, goals_plus_assists_minus_penalty_kicks_per_90]\n",
       "Index: []\n",
       "\n",
       "[0 rows x 22 columns]"
      ]
     },
     "execution_count": 117,
     "metadata": {},
     "output_type": "execute_result"
    }
   ],
   "source": [
    "df[(df['yellow_cards'].isna() == True)]"
   ]
  },
  {
   "cell_type": "code",
   "execution_count": 118,
   "id": "ea147709",
   "metadata": {
    "scrolled": false
   },
   "outputs": [
    {
     "name": "stdout",
     "output_type": "stream",
     "text": [
      "players\n",
      "18    230\n",
      "17    175\n",
      "16    149\n",
      "19    105\n",
      "15     85\n",
      "20     51\n",
      "21     45\n",
      "22     23\n",
      "14     21\n",
      "23      9\n",
      "Name: goals, dtype: int64\n"
     ]
    }
   ],
   "source": [
    "# To get the top 10 goal scorers by players\n",
    "top_10_goals = df.groupby('players')['goals'].sum().nlargest(10)\n",
    "print(top_10_goals)\n"
   ]
  },
  {
   "cell_type": "code",
   "execution_count": 119,
   "id": "d67df427",
   "metadata": {},
   "outputs": [
    {
     "name": "stdout",
     "output_type": "stream",
     "text": [
      "High Age vs performance:\n",
      " age\n",
      "28.8    25.0\n",
      "26.5    14.5\n",
      "24.1    14.0\n",
      "25.1    12.0\n",
      "26.3    12.0\n",
      "Name: goals, dtype: float64\n",
      "Low Age vs performance:\n",
      " age\n",
      "18.2    0.0\n",
      "21.1    0.0\n",
      "21.0    1.0\n",
      "21.5    1.0\n",
      "22.2    1.0\n",
      "Name: goals, dtype: float64\n"
     ]
    }
   ],
   "source": [
    "avg_goals_age1 = df.groupby('age')['goals'].mean().nlargest(5).round(2)\n",
    "print('High Age vs performance:\\n', avg_goals_age1)\n",
    "\n",
    "avg_goals_age2 = df.groupby('age')['goals'].mean().nsmallest(5).round(2)\n",
    "print('Low Age vs performance:\\n', avg_goals_age2)"
   ]
  },
  {
   "cell_type": "code",
   "execution_count": 120,
   "id": "1847c0f8",
   "metadata": {
    "scrolled": true
   },
   "outputs": [
    {
     "name": "stdout",
     "output_type": "stream",
     "text": [
      "squad      year\n",
      "Argentina  2003     1.0\n",
      "           2007     1.0\n",
      "           2019     2.0\n",
      "Australia  1995     3.0\n",
      "           1999     3.0\n",
      "                   ... \n",
      "USA        2003    15.0\n",
      "           2007    12.0\n",
      "           2011    12.0\n",
      "           2015    14.0\n",
      "           2019    25.0\n",
      "Name: goals, Length: 136, dtype: float64\n"
     ]
    }
   ],
   "source": [
    "# To get the average goals scored per squad per year \n",
    "avg_goals = df.groupby(['squad', 'year'])['goals'].mean()\n",
    "print(avg_goals)\n"
   ]
  },
  {
   "cell_type": "code",
   "execution_count": 141,
   "id": "32017179",
   "metadata": {},
   "outputs": [
    {
     "name": "stdout",
     "output_type": "stream",
     "text": [
      "year\n",
      "1991    1.72\n",
      "1995    1.73\n",
      "1999    1.58\n",
      "2003    1.42\n",
      "2007    1.49\n",
      "2011    1.11\n",
      "2015    1.22\n",
      "2019    1.11\n",
      "Name: goals_per_90, dtype: float64\n"
     ]
    }
   ],
   "source": [
    "# To get the average goals scored per match over the years\n",
    "avg_goals = df.groupby('year')['goals_per_90'].mean().round(2)\n",
    "print(avg_goals)"
   ]
  },
  {
   "cell_type": "code",
   "execution_count": 53,
   "id": "360e063f",
   "metadata": {
    "scrolled": true
   },
   "outputs": [
    {
     "name": "stdout",
     "output_type": "stream",
     "text": [
      "squad\n",
      "Argentina         23.6\n",
      "Australia         24.3\n",
      "Brazil            26.4\n",
      "Cameroon          26.4\n",
      "Canada            25.5\n",
      "Chile             26.8\n",
      "China PR          25.0\n",
      "Chinese Taipei    21.2\n",
      "Colombia          23.4\n",
      "Costa Rica        25.0\n",
      "Côte d'Ivoire     25.0\n",
      "Denmark           24.4\n",
      "Ecuador           23.4\n",
      "England           27.0\n",
      "Equ. Guinea       26.1\n",
      "France            26.8\n",
      "Germany           25.7\n",
      "Ghana             24.5\n",
      "Italy             25.8\n",
      "Jamaica           22.9\n",
      "Japan             24.6\n",
      "Korea DPR         23.2\n",
      "Korea Rep         25.1\n",
      "Mexico            23.0\n",
      "Netherlands       25.2\n",
      "New Zealand       25.4\n",
      "Nigeria           23.2\n",
      "Norway            25.4\n",
      "Russia            26.8\n",
      "Scotland          26.4\n",
      "South Africa      27.5\n",
      "Spain             25.2\n",
      "Sweden            26.8\n",
      "Switzerland       25.0\n",
      "Thailand          26.8\n",
      "USA               26.8\n",
      "Name: age, dtype: float64\n"
     ]
    }
   ],
   "source": [
    "# To get the average age of players in each team\n",
    "team_avg_age = df.groupby('squad')['age'].mean().round(1) \n",
    "print(team_avg_age) \n"
   ]
  },
  {
   "cell_type": "code",
   "execution_count": 35,
   "id": "95457c2c",
   "metadata": {},
   "outputs": [
    {
     "name": "stdout",
     "output_type": "stream",
     "text": [
      "year\n",
      "1991    23.4\n",
      "1995    24.8\n",
      "1999    24.9\n",
      "2003    25.0\n",
      "2007    24.8\n",
      "2011    25.2\n",
      "2015    25.7\n",
      "2019    26.8\n",
      "Name: age, dtype: float64\n"
     ]
    }
   ],
   "source": [
    "#To get the average age of players over the years\n",
    "player_avg_age = df.groupby('year')['age'].mean().round(1) \n",
    "print(player_avg_age) "
   ]
  },
  {
   "cell_type": "code",
   "execution_count": 60,
   "id": "40ee5841",
   "metadata": {
    "scrolled": true
   },
   "outputs": [
    {
     "name": "stdout",
     "output_type": "stream",
     "text": [
      "squad\n",
      "USA        135\n",
      "Germany    119\n",
      "Norway      89\n",
      "Sweden      69\n",
      "Brazil      65\n",
      "Name: goals, dtype: int64\n"
     ]
    }
   ],
   "source": [
    "# To get the top 5 team by number of goals\n",
    "goals_scored = df.groupby('squad')['goals'].sum().nlargest(5)\n",
    "print(goals_scored) "
   ]
  },
  {
   "cell_type": "code",
   "execution_count": 75,
   "id": "e24b2485",
   "metadata": {},
   "outputs": [
    {
     "name": "stdout",
     "output_type": "stream",
     "text": [
      "squad\n",
      "Equ. Guinea     2\n",
      "Chile           1\n",
      "Jamaica         1\n",
      "South Africa    1\n",
      "Ecuador         1\n",
      "Name: goals, dtype: int64\n"
     ]
    }
   ],
   "source": [
    "# To get the bottom 5 team by number of goals\n",
    "goals_scored = df.groupby('squad')['goals'].sum().sort_values(ascending =False).tail(5)\n",
    "print(goals_scored) "
   ]
  },
  {
   "cell_type": "code",
   "execution_count": 41,
   "id": "3e445c28",
   "metadata": {},
   "outputs": [
    {
     "name": "stdout",
     "output_type": "stream",
     "text": [
      "yellow cards:\n",
      " squad\n",
      "Nigeria          12.0\n",
      "Cameroon         12.0\n",
      "Korea Rep         9.0\n",
      "Thailand          8.0\n",
      "Côte d'Ivoire     8.0\n",
      "Colombia          8.0\n",
      "Brazil            8.0\n",
      "China PR          7.0\n",
      "South Africa      7.0\n",
      "Ecuador           6.0\n",
      "Name: yellow_cards, dtype: float64\n",
      "red cards:\n",
      " squad\n",
      "Nigeria         2.0\n",
      "South Africa    1.0\n",
      "England         1.0\n",
      "Ecuador         1.0\n",
      "Argentina       0.0\n",
      "Korea DPR       0.0\n",
      "Korea Rep       0.0\n",
      "Mexico          0.0\n",
      "Netherlands     0.0\n",
      "New Zealand     0.0\n",
      "Name: red_cards, dtype: float64\n"
     ]
    }
   ],
   "source": [
    "# What is the distribution of yellow cards and red cards for each team?\n",
    "yellow_card = df.groupby('squad')['yellow_cards'].sum().sort_values(ascending = False).head(10)\n",
    "print('yellow cards:\\n', yellow_card) \n",
    "\n",
    "red_card = df.groupby('squad')['red_cards'].sum().sort_values(ascending = False).head(10)\n",
    "print('red cards:\\n', red_card) "
   ]
  },
  {
   "cell_type": "code",
   "execution_count": 4,
   "id": "78d3a67e",
   "metadata": {},
   "outputs": [
    {
     "name": "stdout",
     "output_type": "stream",
     "text": [
      "Top Scorers:\n",
      "         squad  players  goals\n",
      "135       USA       16     25\n",
      "86    Germany       19     25\n",
      "23        USA       21     25\n",
      "121    Norway       17     23\n",
      "71    Germany       17     20\n",
      "35    Germany       21     20\n",
      "99   China PR       14     19\n",
      "134    Sweden       18     17\n",
      "111       USA       18     17\n",
      "66     Brazil       16     16\n",
      "Top Assist Providers:\n",
      "        squad  players  assists\n",
      "23       USA       21       17\n",
      "111      USA       18       15\n",
      "7    England       22       12\n",
      "135      USA       16       11\n",
      "35   Germany       21       11\n",
      "134   Sweden       18       11\n",
      "71   Germany       17       11\n",
      "97    Brazil       15       10\n",
      "56     Japan       18       10\n",
      "108   Norway       19       10\n"
     ]
    }
   ],
   "source": [
    "# to get the top 10 goal scorers and assist providers\n",
    "top_scorers = df[['squad', 'players', 'goals']].sort_values(by='goals', ascending=False).head(10)\n",
    "top_assist_providers = df[['squad', 'players', 'assists']].sort_values(by='assists', ascending=False).head(10) \n",
    "print('Top Scorers:\\n', top_scorers)\n",
    "print('Top Assist Providers:\\n', top_assist_providers) "
   ]
  },
  {
   "cell_type": "code",
   "execution_count": 8,
   "id": "ccca05ef",
   "metadata": {},
   "outputs": [
    {
     "name": "stdout",
     "output_type": "stream",
     "text": [
      "Average age of players: 25.274\n"
     ]
    }
   ],
   "source": [
    "# What is the average age of players who participated in the FIFA Women's World Cup\n",
    "average_age = df['age'].mean().round(3) \n",
    "average_age\n",
    "print(\"Average age of players: {:.3f}\".format(average_age)) "
   ]
  },
  {
   "cell_type": "code",
   "execution_count": 10,
   "id": "90b2b6c8",
   "metadata": {},
   "outputs": [
    {
     "name": "stdout",
     "output_type": "stream",
     "text": [
      "Squad with highest possesion: Canada\n"
     ]
    }
   ],
   "source": [
    "# To get the squad with highest possesion\n",
    "highest_possession_squad = df.loc[df['possesion'].idxmax(), 'squad'] \n",
    "print(\"Squad with highest possesion: {}\".format(highest_possession_squad)) "
   ]
  },
  {
   "cell_type": "code",
   "execution_count": 11,
   "id": "d74f56c3",
   "metadata": {},
   "outputs": [
    {
     "name": "stdout",
     "output_type": "stream",
     "text": [
      "Top scorer: 21\n"
     ]
    }
   ],
   "source": [
    "# Which player scored the most number of goals in the tournament?\n",
    "top_scorer = df.loc[df['goals'].idxmax(), 'players'] \n",
    "print(\"Top scorer: {}\".format(top_scorer)) "
   ]
  },
  {
   "cell_type": "code",
   "execution_count": 14,
   "id": "3ec955f1",
   "metadata": {},
   "outputs": [
    {
     "data": {
      "text/html": [
       "<div>\n",
       "<style scoped>\n",
       "    .dataframe tbody tr th:only-of-type {\n",
       "        vertical-align: middle;\n",
       "    }\n",
       "\n",
       "    .dataframe tbody tr th {\n",
       "        vertical-align: top;\n",
       "    }\n",
       "\n",
       "    .dataframe thead th {\n",
       "        text-align: right;\n",
       "    }\n",
       "</style>\n",
       "<table border=\"1\" class=\"dataframe\">\n",
       "  <thead>\n",
       "    <tr style=\"text-align: right;\">\n",
       "      <th></th>\n",
       "      <th>yellow_cards</th>\n",
       "      <th>red_cards</th>\n",
       "    </tr>\n",
       "  </thead>\n",
       "  <tbody>\n",
       "    <tr>\n",
       "      <th>yellow_cards</th>\n",
       "      <td>1.000000</td>\n",
       "      <td>0.333157</td>\n",
       "    </tr>\n",
       "    <tr>\n",
       "      <th>red_cards</th>\n",
       "      <td>0.333157</td>\n",
       "      <td>1.000000</td>\n",
       "    </tr>\n",
       "  </tbody>\n",
       "</table>\n",
       "</div>"
      ],
      "text/plain": [
       "              yellow_cards  red_cards\n",
       "yellow_cards      1.000000   0.333157\n",
       "red_cards         0.333157   1.000000"
      ]
     },
     "execution_count": 14,
     "metadata": {},
     "output_type": "execute_result"
    }
   ],
   "source": [
    "import pandas as pd\n",
    "import matplotlib.pyplot as plt\n",
    "df[['yellow_cards', 'red_cards']].corr() "
   ]
  },
  {
   "cell_type": "code",
   "execution_count": 43,
   "id": "3a840944",
   "metadata": {},
   "outputs": [
    {
     "data": {
      "image/png": "[encoded data removed]",
      "text/plain": [
       "<Figure size 432x288 with 1 Axes>"
      ]
     },
     "metadata": {
      "needs_background": "light"
     },
     "output_type": "display_data"
    }
   ],
   "source": [
    "# Create a scatter plot of age vs. goals per 90\n",
    "plt.scatter(df['age'], df['goals_per_90'], alpha=0.5)\n",
    "plt.xlabel('Age')\n",
    "plt.ylabel('Goals per 90')\n",
    "plt.title('Age vs. Goals per 90')\n",
    "plt.show()\n"
   ]
  },
  {
   "cell_type": "code",
   "execution_count": null,
   "id": "addae5b9",
   "metadata": {},
   "outputs": [],
   "source": []
  }
 ],
 "metadata": {
  "kernelspec": {
   "display_name": "Python 3 (ipykernel)",
   "language": "python",
   "name": "python3"
  },
  "language_info": {
   "codemirror_mode": {
    "name": "ipython",
    "version": 3
   },
   "file_extension": ".py",
   "mimetype": "text/x-python",
   "name": "python",
   "nbconvert_exporter": "python",
   "pygments_lexer": "ipython3",
   "version": "3.10.5"
  }
 },
 "nbformat": 4,
 "nbformat_minor": 5
}
