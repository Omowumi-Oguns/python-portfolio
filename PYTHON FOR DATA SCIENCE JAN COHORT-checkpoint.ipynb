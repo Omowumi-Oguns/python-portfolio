{
 "cells": [
  {
   "cell_type": "markdown",
   "id": "6fca9649",
   "metadata": {},
   "source": [
    "## Python for data science "
   ]
  },
  {
   "cell_type": "code",
   "execution_count": 1,
   "id": "2741a51c",
   "metadata": {},
   "outputs": [
    {
     "name": "stdout",
     "output_type": "stream",
     "text": [
      "Hello World, welcome to my first python program\n"
     ]
    }
   ],
   "source": [
    "# my first python program\n",
    "print('Hello World, welcome to my first python program')"
   ]
  },
  {
   "cell_type": "code",
   "execution_count": 2,
   "id": "0c824ce5",
   "metadata": {},
   "outputs": [
    {
     "name": "stdout",
     "output_type": "stream",
     "text": [
      "20\n"
     ]
    }
   ],
   "source": [
    "# Basic Arithmetic +,-,*& /\n",
    "\n",
    "#Addition\n",
    "print(2+18)"
   ]
  },
  {
   "cell_type": "code",
   "execution_count": 3,
   "id": "e41dd8de",
   "metadata": {},
   "outputs": [
    {
     "data": {
      "text/plain": [
       "44"
      ]
     },
     "execution_count": 3,
     "metadata": {},
     "output_type": "execute_result"
    }
   ],
   "source": [
    "# substraction\n",
    "200-156"
   ]
  },
  {
   "cell_type": "code",
   "execution_count": 4,
   "id": "77e3499e",
   "metadata": {},
   "outputs": [
    {
     "data": {
      "text/plain": [
       "40"
      ]
     },
     "execution_count": 4,
     "metadata": {},
     "output_type": "execute_result"
    }
   ],
   "source": [
    "#multiplication\n",
    "2*20"
   ]
  },
  {
   "cell_type": "code",
   "execution_count": 5,
   "id": "31cfb37b",
   "metadata": {},
   "outputs": [
    {
     "data": {
      "text/plain": [
       "1.0"
      ]
     },
     "execution_count": 5,
     "metadata": {},
     "output_type": "execute_result"
    }
   ],
   "source": [
    "# division\n",
    "5/5"
   ]
  },
  {
   "cell_type": "code",
   "execution_count": 6,
   "id": "39baa156",
   "metadata": {},
   "outputs": [
    {
     "data": {
      "text/plain": [
       "8"
      ]
     },
     "execution_count": 6,
     "metadata": {},
     "output_type": "execute_result"
    }
   ],
   "source": [
    "# raise to power **\n",
    "2**3"
   ]
  },
  {
   "cell_type": "code",
   "execution_count": 7,
   "id": "a09172bb",
   "metadata": {},
   "outputs": [
    {
     "data": {
      "text/plain": [
       "625"
      ]
     },
     "execution_count": 7,
     "metadata": {},
     "output_type": "execute_result"
    }
   ],
   "source": [
    "5**4"
   ]
  },
  {
   "cell_type": "code",
   "execution_count": 8,
   "id": "e7c71267",
   "metadata": {},
   "outputs": [
    {
     "data": {
      "text/plain": [
       "128"
      ]
     },
     "execution_count": 8,
     "metadata": {},
     "output_type": "execute_result"
    }
   ],
   "source": [
    "16 * (2**3)"
   ]
  },
  {
   "cell_type": "code",
   "execution_count": 9,
   "id": "3a2aa83a",
   "metadata": {},
   "outputs": [
    {
     "data": {
      "text/plain": [
       "2"
      ]
     },
     "execution_count": 9,
     "metadata": {},
     "output_type": "execute_result"
    }
   ],
   "source": [
    "# floor number, it returns interger meaning whole numbers (//)\n",
    "14//5"
   ]
  },
  {
   "cell_type": "code",
   "execution_count": 10,
   "id": "04b849c7",
   "metadata": {},
   "outputs": [
    {
     "data": {
      "text/plain": [
       "4"
      ]
     },
     "execution_count": 10,
     "metadata": {},
     "output_type": "execute_result"
    }
   ],
   "source": [
    "# modulo, it returns the remainder after division (%)\n",
    "14 % 5"
   ]
  },
  {
   "cell_type": "code",
   "execution_count": 11,
   "id": "d2549411",
   "metadata": {},
   "outputs": [
    {
     "data": {
      "text/plain": [
       "1"
      ]
     },
     "execution_count": 11,
     "metadata": {},
     "output_type": "execute_result"
    }
   ],
   "source": [
    "25 % 6"
   ]
  },
  {
   "cell_type": "markdown",
   "id": "021d0503",
   "metadata": {},
   "source": [
    "### DATA TYPES\n",
    "- Variables can store data of different types\n",
    "\n",
    "Integer - 1, 2, 3, 4....\n",
    "\n",
    "Float - 4.5, 6.25, 0.04\n",
    "\n",
    "string - alphabet and text\n",
    "\n",
    "bool - logical statement, True or False, it starts with capital letter\n",
    "\n",
    "List - it can contain items not unique [mango, orange, apple, banana]\n",
    "\n",
    "Dict - it stores key value items {key : value, Name : 'Damilola'}\n",
    "\n",
    "tuple - items are order and unchangebslr or umutable ('mercedez', 'lexus')"
   ]
  },
  {
   "cell_type": "code",
   "execution_count": 12,
   "id": "1be61546",
   "metadata": {},
   "outputs": [
    {
     "data": {
      "text/plain": [
       "15"
      ]
     },
     "execution_count": 12,
     "metadata": {},
     "output_type": "execute_result"
    }
   ],
   "source": [
    "# Integer (int)\n",
    "int(15.4)"
   ]
  },
  {
   "cell_type": "code",
   "execution_count": 14,
   "id": "717222bf",
   "metadata": {},
   "outputs": [
    {
     "data": {
      "text/plain": [
       "87"
      ]
     },
     "execution_count": 14,
     "metadata": {},
     "output_type": "execute_result"
    }
   ],
   "source": [
    "int(87.6)"
   ]
  },
  {
   "cell_type": "code",
   "execution_count": 15,
   "id": "1d43a68e",
   "metadata": {},
   "outputs": [
    {
     "data": {
      "text/plain": [
       "int"
      ]
     },
     "execution_count": 15,
     "metadata": {},
     "output_type": "execute_result"
    }
   ],
   "source": [
    "# type, it helps to check the data type\n",
    "type(23)"
   ]
  },
  {
   "cell_type": "code",
   "execution_count": 16,
   "id": "a887043d",
   "metadata": {},
   "outputs": [
    {
     "data": {
      "text/plain": [
       "12.06"
      ]
     },
     "execution_count": 16,
     "metadata": {},
     "output_type": "execute_result"
    }
   ],
   "source": [
    "# float\n",
    "float(12.06)"
   ]
  },
  {
   "cell_type": "code",
   "execution_count": 17,
   "id": "bb44505e",
   "metadata": {},
   "outputs": [
    {
     "data": {
      "text/plain": [
       "float"
      ]
     },
     "execution_count": 17,
     "metadata": {},
     "output_type": "execute_result"
    }
   ],
   "source": [
    "type(12.35)"
   ]
  },
  {
   "cell_type": "code",
   "execution_count": 19,
   "id": "3c324f2b",
   "metadata": {},
   "outputs": [
    {
     "name": "stdout",
     "output_type": "stream",
     "text": [
      "Sayo is doing well\n"
     ]
    }
   ],
   "source": [
    "# variable assignment with string str\n",
    "x = 'Sayo is doing well'\n",
    "print(x)"
   ]
  },
  {
   "cell_type": "code",
   "execution_count": 20,
   "id": "9a95136d",
   "metadata": {},
   "outputs": [
    {
     "data": {
      "text/plain": [
       "'Sayo is doing well'"
      ]
     },
     "execution_count": 20,
     "metadata": {},
     "output_type": "execute_result"
    }
   ],
   "source": [
    "x"
   ]
  },
  {
   "cell_type": "code",
   "execution_count": 21,
   "id": "717a2b81",
   "metadata": {},
   "outputs": [
    {
     "data": {
      "text/plain": [
       "str"
      ]
     },
     "execution_count": 21,
     "metadata": {},
     "output_type": "execute_result"
    }
   ],
   "source": [
    "type(x)"
   ]
  },
  {
   "cell_type": "code",
   "execution_count": 22,
   "id": "f4a5d2e1",
   "metadata": {},
   "outputs": [
    {
     "name": "stdout",
     "output_type": "stream",
     "text": [
      "False\n"
     ]
    }
   ],
   "source": [
    "#boolean bool\n",
    "y = False\n",
    "print(y)"
   ]
  },
  {
   "cell_type": "code",
   "execution_count": 23,
   "id": "926bcbd3",
   "metadata": {},
   "outputs": [
    {
     "data": {
      "text/plain": [
       "bool"
      ]
     },
     "execution_count": 23,
     "metadata": {},
     "output_type": "execute_result"
    }
   ],
   "source": [
    "type(y)"
   ]
  },
  {
   "cell_type": "code",
   "execution_count": 25,
   "id": "600d45dc",
   "metadata": {},
   "outputs": [
    {
     "name": "stdout",
     "output_type": "stream",
     "text": [
      "Omowumi Oguns\n",
      "0.03\n",
      "750.0\n",
      "True\n"
     ]
    }
   ],
   "source": [
    "# A short code on assignment\n",
    "firstname = 'Omowumi'\n",
    "surname = 'Oguns'\n",
    "account_balance = 25000\n",
    "tax_rate = 3/100\n",
    "tax_amount = account_balance * tax_rate\n",
    "married = True or False\n",
    " \n",
    "print (firstname + ' ' + surname)\n",
    "print (tax_rate)\n",
    "print(tax_amount)\n",
    "print(married)"
   ]
  },
  {
   "cell_type": "code",
   "execution_count": 26,
   "id": "6b01cbd4",
   "metadata": {},
   "outputs": [
    {
     "name": "stdout",
     "output_type": "stream",
     "text": [
      "[1, 2, 3, 4]\n"
     ]
    }
   ],
   "source": [
    "# list\n",
    "numbers = [1,2,3,4]\n",
    "print(numbers)"
   ]
  },
  {
   "cell_type": "code",
   "execution_count": 27,
   "id": "6fe68815",
   "metadata": {},
   "outputs": [
    {
     "data": {
      "text/plain": [
       "list"
      ]
     },
     "execution_count": 27,
     "metadata": {},
     "output_type": "execute_result"
    }
   ],
   "source": [
    "type(numbers)"
   ]
  },
  {
   "cell_type": "code",
   "execution_count": 31,
   "id": "47d1d6d8",
   "metadata": {},
   "outputs": [
    {
     "name": "stdout",
     "output_type": "stream",
     "text": [
      "[1, 'hello', 3.4]\n"
     ]
    },
    {
     "data": {
      "text/plain": [
       "list"
      ]
     },
     "execution_count": 31,
     "metadata": {},
     "output_type": "execute_result"
    }
   ],
   "source": [
    "# lists can also be cobination of value and string/float\n",
    "my_list = [1, 'hello', 3.4]\n",
    "print(my_list)\n",
    "type(my_list)"
   ]
  },
  {
   "cell_type": "code",
   "execution_count": 29,
   "id": "a7d75d72",
   "metadata": {},
   "outputs": [
    {
     "name": "stdout",
     "output_type": "stream",
     "text": [
      "['Mango', 'Cashew', 'Banana']\n"
     ]
    }
   ],
   "source": [
    "fruits = ['Mango', 'Cashew', 'Banana']\n",
    "print(fruits)"
   ]
  },
  {
   "cell_type": "code",
   "execution_count": 30,
   "id": "1987e668",
   "metadata": {},
   "outputs": [
    {
     "data": {
      "text/plain": [
       "list"
      ]
     },
     "execution_count": 30,
     "metadata": {},
     "output_type": "execute_result"
    }
   ],
   "source": [
    "type(fruits)"
   ]
  },
  {
   "cell_type": "code",
   "execution_count": 32,
   "id": "463f0d18",
   "metadata": {},
   "outputs": [
    {
     "name": "stdout",
     "output_type": "stream",
     "text": [
      "['Mango', 'Cashew', 'Banana', 'strawberry']\n"
     ]
    }
   ],
   "source": [
    "# Append a list, it is a method that adds an item or list to the end of the list\n",
    "fruits.append('strawberry')\n",
    "print(fruits)"
   ]
  },
  {
   "cell_type": "code",
   "execution_count": 33,
   "id": "46864d6b",
   "metadata": {},
   "outputs": [
    {
     "name": "stdout",
     "output_type": "stream",
     "text": [
      "['volvo', 'Toyota', 'Venza', ['Black', 'Green', 'Blue']]\n"
     ]
    }
   ],
   "source": [
    "car = ['volvo', 'Toyota', 'Venza']\n",
    "colour = ['Black', 'Green', 'Blue']\n",
    "car.append(colour)\n",
    "print(car)"
   ]
  },
  {
   "cell_type": "code",
   "execution_count": 36,
   "id": "0dbec1cd",
   "metadata": {},
   "outputs": [
    {
     "name": "stdout",
     "output_type": "stream",
     "text": [
      "please enter your surname: Ogunmiluyi\n",
      "please enter your firstname: Omowumi\n",
      "How old are you?: 26\n",
      "how much is your account balance?: 3000000\n",
      "what is the tax rate in your country?: 0.3\n",
      "how much is your tax amount?: 9000\n",
      "are you married?: yes\n"
     ]
    }
   ],
   "source": [
    "# Input function\n",
    "surname = input('please enter your surname: ')\n",
    "firstname = input('please enter your firstname: ')\n",
    "Age = int(input('How old are you?: '))\n",
    "account_balance =int(input('how much is your account balance?: '))\n",
    "tax_rate = float(input('what is the tax rate in your country?: '))\n",
    "tax_amount = float(input('how much is your tax amount?: '))\n",
    "married = input('are you married?: ')"
   ]
  },
  {
   "cell_type": "code",
   "execution_count": 37,
   "id": "e1b81f19",
   "metadata": {},
   "outputs": [
    {
     "data": {
      "text/plain": [
       "209"
      ]
     },
     "execution_count": 37,
     "metadata": {},
     "output_type": "execute_result"
    }
   ],
   "source": [
    "# Absolute (Abs), it converts negative to positive\n",
    "abs(-209)"
   ]
  },
  {
   "cell_type": "code",
   "execution_count": 38,
   "id": "60ceb73e",
   "metadata": {},
   "outputs": [
    {
     "data": {
      "text/plain": [
       "3.42"
      ]
     },
     "execution_count": 38,
     "metadata": {},
     "output_type": "execute_result"
    }
   ],
   "source": [
    "abs(-3.42)"
   ]
  },
  {
   "cell_type": "code",
   "execution_count": null,
   "id": "02967400",
   "metadata": {},
   "outputs": [],
   "source": [
    "# Help, it is a function that helps in documentation of specified modules as variable \n"
   ]
  },
  {
   "cell_type": "code",
   "execution_count": 45,
   "id": "7691959d",
   "metadata": {},
   "outputs": [
    {
     "data": {
      "text/plain": [
       "945.44"
      ]
     },
     "execution_count": 45,
     "metadata": {},
     "output_type": "execute_result"
    }
   ],
   "source": [
    "# round, it helps to approximate float to decimal or whole number\n",
    "round(945.436, 2)"
   ]
  },
  {
   "cell_type": "code",
   "execution_count": 44,
   "id": "69c9352d",
   "metadata": {},
   "outputs": [
    {
     "data": {
      "text/plain": [
       "234.8"
      ]
     },
     "execution_count": 44,
     "metadata": {},
     "output_type": "execute_result"
    }
   ],
   "source": [
    "round(234.789, 1)"
   ]
  },
  {
   "cell_type": "code",
   "execution_count": 46,
   "id": "0dbba06e",
   "metadata": {},
   "outputs": [
    {
     "data": {
      "text/plain": [
       "78"
      ]
     },
     "execution_count": 46,
     "metadata": {},
     "output_type": "execute_result"
    }
   ],
   "source": [
    "weight = 78.35\n",
    "round(weight)"
   ]
  },
  {
   "cell_type": "code",
   "execution_count": 47,
   "id": "18fe4322",
   "metadata": {},
   "outputs": [
    {
     "data": {
      "text/plain": [
       "[6, 1, 2, 4, 3, 2, 1]"
      ]
     },
     "execution_count": 47,
     "metadata": {},
     "output_type": "execute_result"
    }
   ],
   "source": [
    "#reverse, it is an inbuilt method to modify objects in list, you cant use a reverse for a string\n",
    "list1 =[1,2,3,4,2,1,6]\n",
    "list1.reverse()\n",
    "list1"
   ]
  },
  {
   "cell_type": "code",
   "execution_count": 48,
   "id": "1a86ea26",
   "metadata": {},
   "outputs": [
    {
     "data": {
      "text/plain": [
       "['orange', 'cherry', 'banana']"
      ]
     },
     "execution_count": 48,
     "metadata": {},
     "output_type": "execute_result"
    }
   ],
   "source": [
    "list2 = [\"banana\", 'cherry', 'orange']\n",
    "list2.reverse()\n",
    "list2"
   ]
  },
  {
   "cell_type": "code",
   "execution_count": 49,
   "id": "a233d602",
   "metadata": {},
   "outputs": [
    {
     "data": {
      "text/plain": [
       "['mercedes', 'volvo', 'lexus']"
      ]
     },
     "execution_count": 49,
     "metadata": {},
     "output_type": "execute_result"
    }
   ],
   "source": [
    "# pop , it is a predefined inbuilt function that removes an item from a specified index in a list\n",
    "cars = ['mercedes','volvo','lexus']\n",
    "cars"
   ]
  },
  {
   "cell_type": "code",
   "execution_count": 50,
   "id": "f89fb2fb",
   "metadata": {},
   "outputs": [
    {
     "data": {
      "text/plain": [
       "'lexus'"
      ]
     },
     "execution_count": 50,
     "metadata": {},
     "output_type": "execute_result"
    }
   ],
   "source": [
    "re_cars =cars.pop(2)\n",
    "re_cars"
   ]
  },
  {
   "cell_type": "code",
   "execution_count": 52,
   "id": "6f6972ed",
   "metadata": {},
   "outputs": [
    {
     "name": "stdout",
     "output_type": "stream",
     "text": [
      " My name is Damilola and I am 20 years old\n"
     ]
    }
   ],
   "source": [
    "# placeholder %s\n",
    "Name = 'Damilola'\n",
    "age = 20\n",
    "print(' My name is %s and I am %s years old' %(Name,age))"
   ]
  },
  {
   "cell_type": "code",
   "execution_count": 56,
   "id": "fd98473b",
   "metadata": {},
   "outputs": [
    {
     "name": "stdout",
     "output_type": "stream",
     "text": [
      "welcome to my birthay party\n"
     ]
    }
   ],
   "source": [
    "#split\n",
    "y = 'welcome to my birthay party'\n",
    "y.split\n",
    "print(y)"
   ]
  },
  {
   "cell_type": "code",
   "execution_count": 59,
   "id": "0ac05b26",
   "metadata": {},
   "outputs": [
    {
     "name": "stdout",
     "output_type": "stream",
     "text": [
      "My name is Kelvin and i am 20 years old\n"
     ]
    }
   ],
   "source": [
    "# format method \n",
    "txt2 = 'My name is {Name} and i am {age} years old'. format(Name = 'Kelvin', age = 20)\n",
    "print(txt2)"
   ]
  },
  {
   "cell_type": "code",
   "execution_count": 60,
   "id": "06305c6d",
   "metadata": {},
   "outputs": [
    {
     "name": "stdout",
     "output_type": "stream",
     "text": [
      "4\n"
     ]
    }
   ],
   "source": [
    "#InDEX \n",
    "# list of vowels \n",
    "vowels = ['a', 'e', 'i','o', 'u']\n",
    "# find the position \"u\"\n",
    "index_no = vowels.index('u')\n",
    "print(index_no)"
   ]
  },
  {
   "cell_type": "code",
   "execution_count": 62,
   "id": "3913fbfa",
   "metadata": {},
   "outputs": [
    {
     "name": "stdout",
     "output_type": "stream",
     "text": [
      "1\n"
     ]
    }
   ],
   "source": [
    "Name = ['kemi','sola','tola', 'Temi', 'kelly']\n",
    "# find sola\n",
    "index_no2= Name.index('sola')\n",
    "print(index_no2)"
   ]
  },
  {
   "cell_type": "code",
   "execution_count": 73,
   "id": "4fcc2456",
   "metadata": {},
   "outputs": [
    {
     "name": "stdout",
     "output_type": "stream",
     "text": [
      "python\n"
     ]
    },
    {
     "data": {
      "text/plain": [
       "5"
      ]
     },
     "execution_count": 73,
     "metadata": {},
     "output_type": "execute_result"
    }
   ],
   "source": [
    "#SLICING, it returns a sliced object that is used to slice any sequence (string, tuple, list, range)\n",
    "txt3 = 'python programming class'\n",
    "# get slice object python\n",
    "sliced_txt = slice(6)\n",
    "print(txt3[sliced_txt])\n"
   ]
  },
  {
   "cell_type": "code",
   "execution_count": 72,
   "id": "3bcdd801",
   "metadata": {},
   "outputs": [
    {
     "data": {
      "text/plain": [
       "'he sky is very blue'"
      ]
     },
     "execution_count": 72,
     "metadata": {},
     "output_type": "execute_result"
    }
   ],
   "source": [
    "# Breadknife  [start:End], [start:end:step]\n",
    "test = 'the sky is very blue'\n",
    "test[1:]"
   ]
  },
  {
   "cell_type": "code",
   "execution_count": 76,
   "id": "cca808f2",
   "metadata": {},
   "outputs": [
    {
     "data": {
      "text/plain": [
       "'syi'"
      ]
     },
     "execution_count": 76,
     "metadata": {},
     "output_type": "execute_result"
    }
   ],
   "source": [
    "test[4:10:2]"
   ]
  },
  {
   "cell_type": "code",
   "execution_count": null,
   "id": "2687354c",
   "metadata": {},
   "outputs": [],
   "source": [
    "test1 ="
   ]
  }
 ],
 "metadata": {
  "kernelspec": {
   "display_name": "Python 3 (ipykernel)",
   "language": "python",
   "name": "python3"
  },
  "language_info": {
   "codemirror_mode": {
    "name": "ipython",
    "version": 3
   },
   "file_extension": ".py",
   "mimetype": "text/x-python",
   "name": "python",
   "nbconvert_exporter": "python",
   "pygments_lexer": "ipython3",
   "version": "3.10.5"
  }
 },
 "nbformat": 4,
 "nbformat_minor": 5
}
